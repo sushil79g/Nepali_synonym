{
 "cells": [
  {
   "cell_type": "markdown",
   "metadata": {},
   "source": [
    "## Importing libraries"
   ]
  },
  {
   "cell_type": "code",
   "execution_count": 1,
   "metadata": {},
   "outputs": [],
   "source": [
    "import os\n",
    "import numpy as np\n",
    "import pandas as pd\n",
    "import pickle "
   ]
  },
  {
   "cell_type": "code",
   "execution_count": 3,
   "metadata": {},
   "outputs": [],
   "source": [
    "path = '16NepaliNews/16719/'"
   ]
  },
  {
   "cell_type": "code",
   "execution_count": 4,
   "metadata": {},
   "outputs": [
    {
     "data": {
      "text/plain": [
       "'16NepaliNews/16719/'"
      ]
     },
     "execution_count": 4,
     "metadata": {},
     "output_type": "execute_result"
    }
   ],
   "source": [
    "path"
   ]
  },
  {
   "cell_type": "code",
   "execution_count": 5,
   "metadata": {},
   "outputs": [],
   "source": [
    "def convert_to_pickle(filepath,type_dataset):\n",
    "    category = os.listdir(filepath+str(type_dataset))\n",
    "    data = []\n",
    "    for item in category:\n",
    "        path = filepath+type_dataset+'/'+item\n",
    "        total_file = os.listdir(path)\n",
    "        for file in total_file:\n",
    "            try:\n",
    "                f = open(str(path+'/'+file),'r')\n",
    "                data.append([f.read(),item])\n",
    "                f.close()\n",
    "            except:\n",
    "                pass\n",
    "    df =  pd.DataFrame(np.c_[data],columns=['text','category'])\n",
    "    pickle_out = open(type_dataset+\".pickle\",\"wb\")\n",
    "    pickle.dump(df, pickle_out)\n",
    "    pickle_out.close()"
   ]
  },
  {
   "cell_type": "code",
   "execution_count": 6,
   "metadata": {},
   "outputs": [],
   "source": [
    "convert_to_pickle(path,'train')"
   ]
  },
  {
   "cell_type": "code",
   "execution_count": 7,
   "metadata": {},
   "outputs": [],
   "source": [
    "convert_to_pickle(path,'test')"
   ]
  }
 ],
 "metadata": {
  "kernelspec": {
   "display_name": "Python 3",
   "language": "python",
   "name": "python3"
  },
  "language_info": {
   "codemirror_mode": {
    "name": "ipython",
    "version": 3
   },
   "file_extension": ".py",
   "mimetype": "text/x-python",
   "name": "python",
   "nbconvert_exporter": "python",
   "pygments_lexer": "ipython3",
   "version": "3.6.5"
  }
 },
 "nbformat": 4,
 "nbformat_minor": 2
}
