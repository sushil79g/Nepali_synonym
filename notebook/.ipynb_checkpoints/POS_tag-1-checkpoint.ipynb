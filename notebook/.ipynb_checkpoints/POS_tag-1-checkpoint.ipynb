{
 "cells": [
  {
   "cell_type": "markdown",
   "metadata": {},
   "source": [
    "## import libraries"
   ]
  },
  {
   "cell_type": "code",
   "execution_count": 1,
   "metadata": {},
   "outputs": [],
   "source": [
    "import torch\n",
    "import pickle\n",
    "import unicodedata\n",
    "import torch.nn as nn\n",
    "import torch.nn.functional as F\n",
    "from torch import optim\n",
    "from sklearn.model_selection import train_test_split"
   ]
  },
  {
   "cell_type": "markdown",
   "metadata": {},
   "source": [
    "## import dataset"
   ]
  },
  {
   "cell_type": "code",
   "execution_count": 2,
   "metadata": {},
   "outputs": [],
   "source": [
    "path = \"../data/NepaliTaggedCorpus/new_submissions_parallel_corpus_project_Nepal/\""
   ]
  },
  {
   "cell_type": "code",
   "execution_count": 3,
   "metadata": {},
   "outputs": [],
   "source": [
    "dbfile = open(path+'/'+'processed_tag', 'rb')"
   ]
  },
  {
   "cell_type": "code",
   "execution_count": 4,
   "metadata": {},
   "outputs": [],
   "source": [
    "data_df = pickle.load(dbfile)"
   ]
  },
  {
   "cell_type": "code",
   "execution_count": 5,
   "metadata": {},
   "outputs": [
    {
     "data": {
      "text/html": [
       "<div>\n",
       "<style scoped>\n",
       "    .dataframe tbody tr th:only-of-type {\n",
       "        vertical-align: middle;\n",
       "    }\n",
       "\n",
       "    .dataframe tbody tr th {\n",
       "        vertical-align: top;\n",
       "    }\n",
       "\n",
       "    .dataframe thead th {\n",
       "        text-align: right;\n",
       "    }\n",
       "</style>\n",
       "<table border=\"1\" class=\"dataframe\">\n",
       "  <thead>\n",
       "    <tr style=\"text-align: right;\">\n",
       "      <th></th>\n",
       "      <th>text</th>\n",
       "      <th>tag</th>\n",
       "    </tr>\n",
       "  </thead>\n",
       "  <tbody>\n",
       "    <tr>\n",
       "      <th>0</th>\n",
       "      <td>[६१,  वर्षीय,  पियरे,  भिन्केन,  नोभेम्बर,  २९...</td>\n",
       "      <td>[&lt;CD&gt;, &lt;JJ&gt;, &lt;NNP&gt;, &lt;NNP&gt;, &lt;NNP&gt;, &lt;CD&gt;, &lt;POP&gt;,...</td>\n",
       "    </tr>\n",
       "    <tr>\n",
       "      <th>1</th>\n",
       "      <td>[श्री,  भिन्केन,  डच,  प्रकाशन,  समूह,  एल्सेभ...</td>\n",
       "      <td>[&lt;NN&gt;, &lt;NNP&gt;, &lt;NNP&gt;, &lt;NN&gt;, &lt;NN&gt;, &lt;NNP&gt;, &lt;FB&gt;, ...</td>\n",
       "    </tr>\n",
       "    <tr>\n",
       "      <th>2</th>\n",
       "      <td>[कन्सोलिडेटिड,  गोल्ड,  फिल्ड्स,  पीएलसी, का, ...</td>\n",
       "      <td>[&lt;NNP&gt;, &lt;NN&gt;, &lt;NN&gt;, &lt;NNP&gt;, &lt;PKO&gt;, &lt;JJ&gt;, &lt;NN&gt;, ...</td>\n",
       "    </tr>\n",
       "    <tr>\n",
       "      <th>3</th>\n",
       "      <td>[एकताका,  केन्ट,  चुरोट, को,  फिल्टर,  बनाउन, ...</td>\n",
       "      <td>[&lt;RBO&gt;, &lt;NNP&gt;, &lt;NN&gt;, &lt;PKO&gt;, &lt;NN&gt;, &lt;VBI&gt;, &lt;NN&gt;,...</td>\n",
       "    </tr>\n",
       "    <tr>\n",
       "      <th>4</th>\n",
       "      <td>[यस, सँग, को,  छोटो,  सम्पर्क, बाट,  मात्र,  प...</td>\n",
       "      <td>[&lt;DUM&gt;, &lt;POP&gt;, &lt;PKO&gt;, &lt;JJM&gt;, &lt;NN&gt;, &lt;POP&gt;, &lt;RP&gt;...</td>\n",
       "    </tr>\n",
       "  </tbody>\n",
       "</table>\n",
       "</div>"
      ],
      "text/plain": [
       "                                                text  \\\n",
       "0  [६१,  वर्षीय,  पियरे,  भिन्केन,  नोभेम्बर,  २९...   \n",
       "1  [श्री,  भिन्केन,  डच,  प्रकाशन,  समूह,  एल्सेभ...   \n",
       "2  [कन्सोलिडेटिड,  गोल्ड,  फिल्ड्स,  पीएलसी, का, ...   \n",
       "3  [एकताका,  केन्ट,  चुरोट, को,  फिल्टर,  बनाउन, ...   \n",
       "4  [यस, सँग, को,  छोटो,  सम्पर्क, बाट,  मात्र,  प...   \n",
       "\n",
       "                                                 tag  \n",
       "0  [<CD>, <JJ>, <NNP>, <NNP>, <NNP>, <CD>, <POP>,...  \n",
       "1  [<NN>, <NNP>, <NNP>, <NN>, <NN>, <NNP>, <FB>, ...  \n",
       "2  [<NNP>, <NN>, <NN>, <NNP>, <PKO>, <JJ>, <NN>, ...  \n",
       "3  [<RBO>, <NNP>, <NN>, <PKO>, <NN>, <VBI>, <NN>,...  \n",
       "4  [<DUM>, <POP>, <PKO>, <JJM>, <NN>, <POP>, <RP>...  "
      ]
     },
     "execution_count": 5,
     "metadata": {},
     "output_type": "execute_result"
    }
   ],
   "source": [
    "data_df.head()"
   ]
  },
  {
   "cell_type": "code",
   "execution_count": 6,
   "metadata": {},
   "outputs": [],
   "source": [
    "data_df['len_txt'] =data_df['text'].map(len)"
   ]
  },
  {
   "cell_type": "code",
   "execution_count": 7,
   "metadata": {},
   "outputs": [],
   "source": [
    "data_df['len_tag'] =data_df['tag'].map(len)"
   ]
  },
  {
   "cell_type": "code",
   "execution_count": 8,
   "metadata": {},
   "outputs": [
    {
     "data": {
      "text/html": [
       "<div>\n",
       "<style scoped>\n",
       "    .dataframe tbody tr th:only-of-type {\n",
       "        vertical-align: middle;\n",
       "    }\n",
       "\n",
       "    .dataframe tbody tr th {\n",
       "        vertical-align: top;\n",
       "    }\n",
       "\n",
       "    .dataframe thead th {\n",
       "        text-align: right;\n",
       "    }\n",
       "</style>\n",
       "<table border=\"1\" class=\"dataframe\">\n",
       "  <thead>\n",
       "    <tr style=\"text-align: right;\">\n",
       "      <th></th>\n",
       "      <th>text</th>\n",
       "      <th>tag</th>\n",
       "      <th>len_txt</th>\n",
       "      <th>len_tag</th>\n",
       "    </tr>\n",
       "  </thead>\n",
       "  <tbody>\n",
       "  </tbody>\n",
       "</table>\n",
       "</div>"
      ],
      "text/plain": [
       "Empty DataFrame\n",
       "Columns: [text, tag, len_txt, len_tag]\n",
       "Index: []"
      ]
     },
     "execution_count": 8,
     "metadata": {},
     "output_type": "execute_result"
    }
   ],
   "source": [
    "data_df[data_df['len_txt']!=data_df['len_tag']]"
   ]
  },
  {
   "cell_type": "markdown",
   "metadata": {},
   "source": [
    "## hence from the operation, we figure out that there is not mismatch between tags and text tokens "
   ]
  },
  {
   "cell_type": "markdown",
   "metadata": {},
   "source": [
    "## Dataset Preparation"
   ]
  },
  {
   "cell_type": "code",
   "execution_count": 9,
   "metadata": {},
   "outputs": [
    {
     "data": {
      "text/html": [
       "<div>\n",
       "<style scoped>\n",
       "    .dataframe tbody tr th:only-of-type {\n",
       "        vertical-align: middle;\n",
       "    }\n",
       "\n",
       "    .dataframe tbody tr th {\n",
       "        vertical-align: top;\n",
       "    }\n",
       "\n",
       "    .dataframe thead th {\n",
       "        text-align: right;\n",
       "    }\n",
       "</style>\n",
       "<table border=\"1\" class=\"dataframe\">\n",
       "  <thead>\n",
       "    <tr style=\"text-align: right;\">\n",
       "      <th></th>\n",
       "      <th>text</th>\n",
       "      <th>tag</th>\n",
       "      <th>len_txt</th>\n",
       "      <th>len_tag</th>\n",
       "    </tr>\n",
       "  </thead>\n",
       "  <tbody>\n",
       "    <tr>\n",
       "      <th>0</th>\n",
       "      <td>[६१,  वर्षीय,  पियरे,  भिन्केन,  नोभेम्बर,  २९...</td>\n",
       "      <td>[&lt;CD&gt;, &lt;JJ&gt;, &lt;NNP&gt;, &lt;NNP&gt;, &lt;NNP&gt;, &lt;CD&gt;, &lt;POP&gt;,...</td>\n",
       "      <td>16</td>\n",
       "      <td>16</td>\n",
       "    </tr>\n",
       "    <tr>\n",
       "      <th>1</th>\n",
       "      <td>[श्री,  भिन्केन,  डच,  प्रकाशन,  समूह,  एल्सेभ...</td>\n",
       "      <td>[&lt;NN&gt;, &lt;NNP&gt;, &lt;NNP&gt;, &lt;NN&gt;, &lt;NN&gt;, &lt;NNP&gt;, &lt;FB&gt;, ...</td>\n",
       "      <td>11</td>\n",
       "      <td>11</td>\n",
       "    </tr>\n",
       "    <tr>\n",
       "      <th>2</th>\n",
       "      <td>[कन्सोलिडेटिड,  गोल्ड,  फिल्ड्स,  पीएलसी, का, ...</td>\n",
       "      <td>[&lt;NNP&gt;, &lt;NN&gt;, &lt;NN&gt;, &lt;NNP&gt;, &lt;PKO&gt;, &lt;JJ&gt;, &lt;NN&gt;, ...</td>\n",
       "      <td>25</td>\n",
       "      <td>25</td>\n",
       "    </tr>\n",
       "    <tr>\n",
       "      <th>3</th>\n",
       "      <td>[एकताका,  केन्ट,  चुरोट, को,  फिल्टर,  बनाउन, ...</td>\n",
       "      <td>[&lt;RBO&gt;, &lt;NNP&gt;, &lt;NN&gt;, &lt;PKO&gt;, &lt;NN&gt;, &lt;VBI&gt;, &lt;NN&gt;,...</td>\n",
       "      <td>43</td>\n",
       "      <td>43</td>\n",
       "    </tr>\n",
       "    <tr>\n",
       "      <th>4</th>\n",
       "      <td>[यस, सँग, को,  छोटो,  सम्पर्क, बाट,  मात्र,  प...</td>\n",
       "      <td>[&lt;DUM&gt;, &lt;POP&gt;, &lt;PKO&gt;, &lt;JJM&gt;, &lt;NN&gt;, &lt;POP&gt;, &lt;RP&gt;...</td>\n",
       "      <td>38</td>\n",
       "      <td>38</td>\n",
       "    </tr>\n",
       "  </tbody>\n",
       "</table>\n",
       "</div>"
      ],
      "text/plain": [
       "                                                text  \\\n",
       "0  [६१,  वर्षीय,  पियरे,  भिन्केन,  नोभेम्बर,  २९...   \n",
       "1  [श्री,  भिन्केन,  डच,  प्रकाशन,  समूह,  एल्सेभ...   \n",
       "2  [कन्सोलिडेटिड,  गोल्ड,  फिल्ड्स,  पीएलसी, का, ...   \n",
       "3  [एकताका,  केन्ट,  चुरोट, को,  फिल्टर,  बनाउन, ...   \n",
       "4  [यस, सँग, को,  छोटो,  सम्पर्क, बाट,  मात्र,  प...   \n",
       "\n",
       "                                                 tag  len_txt  len_tag  \n",
       "0  [<CD>, <JJ>, <NNP>, <NNP>, <NNP>, <CD>, <POP>,...       16       16  \n",
       "1  [<NN>, <NNP>, <NNP>, <NN>, <NN>, <NNP>, <FB>, ...       11       11  \n",
       "2  [<NNP>, <NN>, <NN>, <NNP>, <PKO>, <JJ>, <NN>, ...       25       25  \n",
       "3  [<RBO>, <NNP>, <NN>, <PKO>, <NN>, <VBI>, <NN>,...       43       43  \n",
       "4  [<DUM>, <POP>, <PKO>, <JJM>, <NN>, <POP>, <RP>...       38       38  "
      ]
     },
     "execution_count": 9,
     "metadata": {},
     "output_type": "execute_result"
    }
   ],
   "source": [
    "data_df.head()"
   ]
  },
  {
   "cell_type": "code",
   "execution_count": 10,
   "metadata": {},
   "outputs": [],
   "source": [
    "data_df['text'] = data_df['text'].apply(lambda x : [\"\".join(item.split(\" \")) for item in x])"
   ]
  },
  {
   "cell_type": "markdown",
   "metadata": {},
   "source": [
    "## Converting Unicode value into ASCII"
   ]
  },
  {
   "cell_type": "code",
   "execution_count": 11,
   "metadata": {},
   "outputs": [],
   "source": [
    "def unicode_to_ascii(s):\n",
    "    return ''.join(\n",
    "        c for c in unicodedata.normalize('NFD', s)\n",
    "        if unicodedata.category(c) != 'Mn')"
   ]
  },
  {
   "cell_type": "code",
   "execution_count": 12,
   "metadata": {},
   "outputs": [],
   "source": [
    "data_df['ascii_text'] = data_df['text'].apply(lambda x : [unicode_to_ascii(item) for item in x])"
   ]
  },
  {
   "cell_type": "code",
   "execution_count": 13,
   "metadata": {},
   "outputs": [],
   "source": [
    "data_df.drop(columns=['text','len_txt','len_tag'],inplace=True)"
   ]
  },
  {
   "cell_type": "code",
   "execution_count": 14,
   "metadata": {},
   "outputs": [],
   "source": [
    "data_df = data_df[['ascii_text','tag']]"
   ]
  },
  {
   "cell_type": "code",
   "execution_count": 15,
   "metadata": {},
   "outputs": [
    {
     "data": {
      "text/html": [
       "<div>\n",
       "<style scoped>\n",
       "    .dataframe tbody tr th:only-of-type {\n",
       "        vertical-align: middle;\n",
       "    }\n",
       "\n",
       "    .dataframe tbody tr th {\n",
       "        vertical-align: top;\n",
       "    }\n",
       "\n",
       "    .dataframe thead th {\n",
       "        text-align: right;\n",
       "    }\n",
       "</style>\n",
       "<table border=\"1\" class=\"dataframe\">\n",
       "  <thead>\n",
       "    <tr style=\"text-align: right;\">\n",
       "      <th></th>\n",
       "      <th>ascii_text</th>\n",
       "      <th>tag</th>\n",
       "    </tr>\n",
       "  </thead>\n",
       "  <tbody>\n",
       "    <tr>\n",
       "      <th>0</th>\n",
       "      <td>[६१, वरषीय, पियर, भिनकन, नोभमबर, २९, बाट, सलला...</td>\n",
       "      <td>[&lt;CD&gt;, &lt;JJ&gt;, &lt;NNP&gt;, &lt;NNP&gt;, &lt;NNP&gt;, &lt;CD&gt;, &lt;POP&gt;,...</td>\n",
       "    </tr>\n",
       "    <tr>\n",
       "      <th>1</th>\n",
       "      <td>[शरी, भिनकन, डच, परकाशन, समह, एलसभियर, एन.भी.,...</td>\n",
       "      <td>[&lt;NN&gt;, &lt;NNP&gt;, &lt;NNP&gt;, &lt;NN&gt;, &lt;NN&gt;, &lt;NNP&gt;, &lt;FB&gt;, ...</td>\n",
       "    </tr>\n",
       "    <tr>\n",
       "      <th>2</th>\n",
       "      <td>[कनसोलिडटिड, गोलड, फिलडस, पीएलसी, का, परव, सभा...</td>\n",
       "      <td>[&lt;NNP&gt;, &lt;NN&gt;, &lt;NN&gt;, &lt;NNP&gt;, &lt;PKO&gt;, &lt;JJ&gt;, &lt;NN&gt;, ...</td>\n",
       "    </tr>\n",
       "    <tr>\n",
       "      <th>3</th>\n",
       "      <td>[एकताका, कनट, चरोट, को, फिलटर, बनाउन, परयोग, भ...</td>\n",
       "      <td>[&lt;RBO&gt;, &lt;NNP&gt;, &lt;NN&gt;, &lt;PKO&gt;, &lt;NN&gt;, &lt;VBI&gt;, &lt;NN&gt;,...</td>\n",
       "    </tr>\n",
       "    <tr>\n",
       "      <th>4</th>\n",
       "      <td>[यस, सग, को, छोटो, समपरक, बाट, मातर, पनि, दशकौ...</td>\n",
       "      <td>[&lt;DUM&gt;, &lt;POP&gt;, &lt;PKO&gt;, &lt;JJM&gt;, &lt;NN&gt;, &lt;POP&gt;, &lt;RP&gt;...</td>\n",
       "    </tr>\n",
       "  </tbody>\n",
       "</table>\n",
       "</div>"
      ],
      "text/plain": [
       "                                          ascii_text  \\\n",
       "0  [६१, वरषीय, पियर, भिनकन, नोभमबर, २९, बाट, सलला...   \n",
       "1  [शरी, भिनकन, डच, परकाशन, समह, एलसभियर, एन.भी.,...   \n",
       "2  [कनसोलिडटिड, गोलड, फिलडस, पीएलसी, का, परव, सभा...   \n",
       "3  [एकताका, कनट, चरोट, को, फिलटर, बनाउन, परयोग, भ...   \n",
       "4  [यस, सग, को, छोटो, समपरक, बाट, मातर, पनि, दशकौ...   \n",
       "\n",
       "                                                 tag  \n",
       "0  [<CD>, <JJ>, <NNP>, <NNP>, <NNP>, <CD>, <POP>,...  \n",
       "1  [<NN>, <NNP>, <NNP>, <NN>, <NN>, <NNP>, <FB>, ...  \n",
       "2  [<NNP>, <NN>, <NN>, <NNP>, <PKO>, <JJ>, <NN>, ...  \n",
       "3  [<RBO>, <NNP>, <NN>, <PKO>, <NN>, <VBI>, <NN>,...  \n",
       "4  [<DUM>, <POP>, <PKO>, <JJM>, <NN>, <POP>, <RP>...  "
      ]
     },
     "execution_count": 15,
     "metadata": {},
     "output_type": "execute_result"
    }
   ],
   "source": [
    "data_df.head()"
   ]
  },
  {
   "cell_type": "markdown",
   "metadata": {},
   "source": [
    "# Padding Sequence for batches"
   ]
  },
  {
   "cell_type": "code",
   "execution_count": 16,
   "metadata": {},
   "outputs": [],
   "source": [
    "# maximum_len = data_df['ascii_text'].map(len).max()"
   ]
  },
  {
   "cell_type": "code",
   "execution_count": 17,
   "metadata": {},
   "outputs": [],
   "source": [
    "# def padding_sequence(token_list,max_len=maximum_len):\n",
    "#     len_token = len(token_list)\n",
    "#     for  idx in range(len_token,maximum_len):\n",
    "#         token_list.append(' ')\n",
    "#     return token_list"
   ]
  },
  {
   "cell_type": "code",
   "execution_count": 18,
   "metadata": {},
   "outputs": [],
   "source": [
    "# data_df['ascii_text'] = data_df['ascii_text'].map(padding_sequence)"
   ]
  },
  {
   "cell_type": "code",
   "execution_count": 19,
   "metadata": {},
   "outputs": [],
   "source": [
    "# data_df['tag'] = data_df['tag'].map(padding_sequence)"
   ]
  },
  {
   "cell_type": "markdown",
   "metadata": {},
   "source": [
    "## word2vec and vec2word conversion"
   ]
  },
  {
   "cell_type": "code",
   "execution_count": 20,
   "metadata": {},
   "outputs": [],
   "source": [
    "word_dictonary = list(set(sum(data_df['ascii_text'].tolist(),[])))"
   ]
  },
  {
   "cell_type": "code",
   "execution_count": 21,
   "metadata": {},
   "outputs": [
    {
     "data": {
      "text/plain": [
       "['',\n",
       " 'नोफ',\n",
       " 'गठन',\n",
       " 'सटटाबाजी',\n",
       " 'नानसी',\n",
       " 'झटका',\n",
       " 'अवसथापन',\n",
       " 'मिन\\u200dनियापोलिस']"
      ]
     },
     "execution_count": 21,
     "metadata": {},
     "output_type": "execute_result"
    }
   ],
   "source": [
    "word_dictonary[:8]"
   ]
  },
  {
   "cell_type": "code",
   "execution_count": 22,
   "metadata": {},
   "outputs": [],
   "source": [
    "tag_dictionary = list(set(sum(data_df['tag'].tolist(),[])))"
   ]
  },
  {
   "cell_type": "code",
   "execution_count": 23,
   "metadata": {},
   "outputs": [
    {
     "data": {
      "text/plain": [
       "['<NN>', '<YM>', '<CC>', '<FW>', '<CD>', '<PKO>', '<VBX>', '<VBKO>']"
      ]
     },
     "execution_count": 23,
     "metadata": {},
     "output_type": "execute_result"
    }
   ],
   "source": [
    "tag_dictionary[:8]"
   ]
  },
  {
   "cell_type": "code",
   "execution_count": 24,
   "metadata": {},
   "outputs": [],
   "source": [
    "int2word = dict(enumerate(word_dictonary))"
   ]
  },
  {
   "cell_type": "code",
   "execution_count": 25,
   "metadata": {},
   "outputs": [],
   "source": [
    "word2int = {int2word[idx]:idx for idx in int2word.keys() }"
   ]
  },
  {
   "cell_type": "code",
   "execution_count": 26,
   "metadata": {},
   "outputs": [],
   "source": [
    "int2tag = dict(enumerate(tag_dictionary))"
   ]
  },
  {
   "cell_type": "code",
   "execution_count": 27,
   "metadata": {},
   "outputs": [],
   "source": [
    "tag2int = {int2tag[idx]:idx for idx in int2tag.keys()}"
   ]
  },
  {
   "cell_type": "markdown",
   "metadata": {},
   "source": [
    "# Train Test Split"
   ]
  },
  {
   "cell_type": "code",
   "execution_count": 28,
   "metadata": {},
   "outputs": [],
   "source": [
    "SPLIT_RATIO = 0.2"
   ]
  },
  {
   "cell_type": "code",
   "execution_count": 29,
   "metadata": {},
   "outputs": [],
   "source": [
    "split_num = round((1-SPLIT_RATIO)*data_df.shape[0])"
   ]
  },
  {
   "cell_type": "code",
   "execution_count": 30,
   "metadata": {},
   "outputs": [],
   "source": [
    "train_dataset = data_df[:split_num]"
   ]
  },
  {
   "cell_type": "code",
   "execution_count": 31,
   "metadata": {},
   "outputs": [],
   "source": [
    "valid_dataset = data_df[split_num:]"
   ]
  },
  {
   "cell_type": "code",
   "execution_count": 32,
   "metadata": {},
   "outputs": [
    {
     "data": {
      "text/plain": [
       "((3434, 2), (858, 2))"
      ]
     },
     "execution_count": 32,
     "metadata": {},
     "output_type": "execute_result"
    }
   ],
   "source": [
    "train_dataset.shape,valid_dataset.shape"
   ]
  },
  {
   "cell_type": "code",
   "execution_count": 33,
   "metadata": {},
   "outputs": [],
   "source": [
    "training_data = [\n",
    "    (\"The dog ate the apple\".split(), [\"DET\", \"NN\", \"V\", \"DET\", \"NN\"]),\n",
    "    (\"Everybody read that book\".split(), [\"NN\", \"V\", \"DET\", \"NN\"])\n",
    "]"
   ]
  },
  {
   "cell_type": "markdown",
   "metadata": {},
   "source": [
    "# Model architecture"
   ]
  },
  {
   "cell_type": "code",
   "execution_count": 34,
   "metadata": {},
   "outputs": [],
   "source": [
    "class POS_Tagger(nn.Module):\n",
    "\n",
    "    def __init__(self, embedding_dim, hidden_dim, vocab_size, target_size):\n",
    "        super().__init__()\n",
    "        self.hidden_dim = hidden_dim\n",
    "\n",
    "        self.word_embeddings = nn.Embedding(vocab_size, embedding_dim)\n",
    "\n",
    "        # The LSTM takes word embeddings as inputs, and outputs hidden states\n",
    "        # with dimensionality hidden_dim.\n",
    "        self.lstm = nn.LSTM(embedding_dim, hidden_dim)\n",
    "\n",
    "        # The linear layer that maps from hidden state space to tag space\n",
    "        self.hidden2tag = nn.Linear(hidden_dim, target_size)\n",
    "\n",
    "    def forward(self, sentence):\n",
    "        embeds = self.word_embeddings(sentence)\n",
    "        lstm_out, _ = self.lstm(embeds.view(len(sentence), 1, -1))\n",
    "        tag_space = self.hidden2tag(lstm_out.view(len(sentence), -1))\n",
    "        tag_scores = F.log_softmax(tag_space, dim=1)\n",
    "        return tag_scores"
   ]
  },
  {
   "cell_type": "code",
   "execution_count": 35,
   "metadata": {},
   "outputs": [],
   "source": [
    "INPUT_DIM = len(word_dictonary)\n",
    "OUTPUT_DIM = len(tag_dictionary)"
   ]
  },
  {
   "cell_type": "code",
   "execution_count": 36,
   "metadata": {},
   "outputs": [
    {
     "data": {
      "text/plain": [
       "(11993, 39)"
      ]
     },
     "execution_count": 36,
     "metadata": {},
     "output_type": "execute_result"
    }
   ],
   "source": [
    "INPUT_DIM,OUTPUT_DIM"
   ]
  },
  {
   "cell_type": "code",
   "execution_count": 37,
   "metadata": {},
   "outputs": [],
   "source": [
    "EMBEDDING_DIM = 300\n",
    "HIDDEN_DIM = 150"
   ]
  },
  {
   "cell_type": "code",
   "execution_count": 38,
   "metadata": {},
   "outputs": [],
   "source": [
    "model = POS_Tagger(EMBEDDING_DIM, HIDDEN_DIM, INPUT_DIM, OUTPUT_DIM)"
   ]
  },
  {
   "cell_type": "code",
   "execution_count": 39,
   "metadata": {},
   "outputs": [
    {
     "data": {
      "text/plain": [
       "POS_Tagger(\n",
       "  (word_embeddings): Embedding(11993, 300)\n",
       "  (lstm): LSTM(300, 150)\n",
       "  (hidden2tag): Linear(in_features=150, out_features=39, bias=True)\n",
       ")"
      ]
     },
     "execution_count": 39,
     "metadata": {},
     "output_type": "execute_result"
    }
   ],
   "source": [
    "model"
   ]
  },
  {
   "cell_type": "markdown",
   "metadata": {},
   "source": [
    "# Initailization"
   ]
  },
  {
   "cell_type": "code",
   "execution_count": 40,
   "metadata": {},
   "outputs": [],
   "source": [
    "# Define hyperparameters\n",
    "EPOCHS = 50\n",
    "LR = 0.01"
   ]
  },
  {
   "cell_type": "code",
   "execution_count": 41,
   "metadata": {},
   "outputs": [],
   "source": [
    "# Define Loss, Optimizer\n",
    "criterion = nn.NLLLoss()\n",
    "optimizer = torch.optim.Adam(model.parameters(), lr=LR)"
   ]
  },
  {
   "cell_type": "markdown",
   "metadata": {},
   "source": [
    "# Training"
   ]
  },
  {
   "cell_type": "code",
   "execution_count": 42,
   "metadata": {},
   "outputs": [],
   "source": [
    "def prepare_sequence(seq, to_ix):\n",
    "    idxs = [to_ix[w] for w in seq]\n",
    "    return torch.tensor(idxs, dtype=torch.long)"
   ]
  },
  {
   "cell_type": "code",
   "execution_count": 43,
   "metadata": {},
   "outputs": [],
   "source": [
    "train_dataset = list(train_dataset.itertuples(index=False))"
   ]
  },
  {
   "cell_type": "code",
   "execution_count": 44,
   "metadata": {},
   "outputs": [],
   "source": [
    "valid_dataset = list(valid_dataset.itertuples(index=False))"
   ]
  },
  {
   "cell_type": "code",
   "execution_count": 45,
   "metadata": {},
   "outputs": [
    {
     "data": {
      "text/plain": [
       "Pandas(ascii_text=['६१', 'वरषीय', 'पियर', 'भिनकन', 'नोभमबर', '२९', 'बाट', 'सललाहकार', 'को', 'रप', 'मा', 'सञचालक', 'समिति', 'मा', 'आउनहनछ', '।'], tag=['<CD>', '<JJ>', '<NNP>', '<NNP>', '<NNP>', '<CD>', '<POP>', '<NN>', '<PKO>', '<NN>', '<POP>', '<NN>', '<NN>', '<POP>', '<VBX>', '<YF>'])"
      ]
     },
     "execution_count": 45,
     "metadata": {},
     "output_type": "execute_result"
    }
   ],
   "source": [
    "train_dataset[0]"
   ]
  },
  {
   "cell_type": "code",
   "execution_count": 46,
   "metadata": {},
   "outputs": [
    {
     "name": "stdout",
     "output_type": "stream",
     "text": [
      "Epoch: 1/50............. Training Loss: 0.58 Validation Loss: 0.58\n",
      "Epoch: 6/50............. Training Loss: 0.17 Validation Loss: 0.72\n",
      "Epoch: 11/50............. Training Loss: 0.14 Validation Loss: 0.80\n",
      "Epoch: 16/50............. Training Loss: 0.13 Validation Loss: 0.85\n",
      "Epoch: 21/50............. Training Loss: 0.12 Validation Loss: 0.90\n",
      "Epoch: 26/50............. Training Loss: 0.12 Validation Loss: 1.00\n",
      "Epoch: 31/50............. Training Loss: 0.11 Validation Loss: 0.99\n",
      "Epoch: 36/50............. Training Loss: 0.11 Validation Loss: 1.02\n",
      "Epoch: 41/50............. Training Loss: 0.10 Validation Loss: 1.07\n",
      "Epoch: 46/50............. Training Loss: 0.10 Validation Loss: 1.10\n"
     ]
    }
   ],
   "source": [
    "epoch_loss_train=[]\n",
    "epoch_loss_valid=[]\n",
    "for epoch in range(EPOCHS):\n",
    "    net_loss_train = 0\n",
    "    for sentence, tags in train_dataset:\n",
    "        # Step 1. Remember that Pytorch accumulates gradients.\n",
    "        # We need to clear them out before each instance\n",
    "        model.zero_grad()\n",
    "        # Step 2. Get our inputs ready for the network, that is, turn them into\n",
    "        sent_int = prepare_sequence(sentence, word2int)\n",
    "        tag_int = prepare_sequence(tags, tag2int)\n",
    "        \n",
    "\n",
    "        #Step 3. Run our forward pass.\n",
    "        try:\n",
    "            tag_scores = model(sent_int)\n",
    "\n",
    "            # Step 4. Compute the loss, gradients, and update the parameters \n",
    "            loss = criterion(tag_scores, tag_int)\n",
    "            loss.backward()\n",
    "            optimizer.step()\n",
    "            net_loss_train+=loss.item()\n",
    "            \n",
    "        except:\n",
    "            continue\n",
    "    # cross validation\n",
    "    with torch.no_grad():\n",
    "        net_loss_valid=0\n",
    "        accuracy=0\n",
    "        for sentence,tags in valid_dataset:\n",
    "            sent_int = prepare_sequence(sentence,word2int)\n",
    "            tag_int = prepare_sequence(tags,tag2int)\n",
    "            #Step 3. Run our forward pass.\n",
    "            try:\n",
    "                tag_scores = model(sent_int)\n",
    "\n",
    "                # Step 4. Compute the loss \n",
    "                net_loss_valid+=criterion(tag_scores, tag_int)\n",
    "            except:\n",
    "                continue\n",
    "                \n",
    "    epoch_loss_train.append(net_loss_train/len(train_dataset))\n",
    "    epoch_loss_valid.append(net_loss_valid/len(valid_dataset))\n",
    "    torch.save(model.state_dict(),'../model/POS_Tagger_model_epoch'+str(epoch))\n",
    "    if epoch%5 == 0:\n",
    "        print('Epoch: {}/{}.............'.format(epoch+1, EPOCHS), end=' ')\n",
    "        print(\"Training Loss: {:.2f}\".format(net_loss_train/len(train_dataset)),end=' ')\n",
    "        print(\"Validation Loss: {:.2f}\".format(net_loss_valid/len(valid_dataset)))"
   ]
  },
  {
   "cell_type": "code",
   "execution_count": 55,
   "metadata": {},
   "outputs": [],
   "source": [
    "epoch_loss_valid = torch.FloatTensor(epoch_loss_valid).tolist()"
   ]
  },
  {
   "cell_type": "code",
   "execution_count": 57,
   "metadata": {},
   "outputs": [],
   "source": [
    "import matplotlib.pyplot as plt"
   ]
  },
  {
   "cell_type": "code",
   "execution_count": 59,
   "metadata": {},
   "outputs": [
    {
     "data": {
      "text/plain": [
       "[<matplotlib.lines.Line2D at 0x7f19f0a189e8>]"
      ]
     },
     "execution_count": 59,
     "metadata": {},
     "output_type": "execute_result"
    },
    {
     "data": {
      "image/png": "[encoded data removed]",
      "text/plain": [
       "<Figure size 432x288 with 1 Axes>"
      ]
     },
     "metadata": {},
     "output_type": "display_data"
    }
   ],
   "source": [
    "plt.plot(epoch_loss_train)\n",
    "plt.plot(epoch_loss_valid)"
   ]
  },
  {
   "cell_type": "code",
   "execution_count": 69,
   "metadata": {},
   "outputs": [
    {
     "data": {
      "text/plain": [
       "tensor([ 3148, 10589,  6821,  4715,  9906,  7079,  9908, 10271,  8780,  9906,\n",
       "         5067,  1237,  3774,  6821,  2827,  8261, 10952,  8017,  9722,  6633,\n",
       "         8334,  8716])"
      ]
     },
     "execution_count": 69,
     "metadata": {},
     "output_type": "execute_result"
    }
   ],
   "source": []
  },
  {
   "cell_type": "code",
   "execution_count": 63,
   "metadata": {},
   "outputs": [
    {
     "data": {
      "text/plain": [
       "['<JJ>',\n",
       " '<NN>',\n",
       " '<PKO>',\n",
       " '<NN>',\n",
       " '<POP>',\n",
       " '<NN>',\n",
       " '<CC>',\n",
       " '<JJ>',\n",
       " '<NN>',\n",
       " '<POP>',\n",
       " '<CD>',\n",
       " '<CD>',\n",
       " '<NNP>',\n",
       " '<PKO>',\n",
       " '<CD>',\n",
       " '<RBO>',\n",
       " '<RP>',\n",
       " '<VBNE>',\n",
       " '<NN>',\n",
       " '<JJ>',\n",
       " '<VBX>',\n",
       " '<YF>']"
      ]
     },
     "execution_count": 63,
     "metadata": {},
     "output_type": "execute_result"
    }
   ],
   "source": [
    "valid_dataset[0][1]"
   ]
  },
  {
   "cell_type": "code",
   "execution_count": 95,
   "metadata": {},
   "outputs": [
    {
     "name": "stdout",
     "output_type": "stream",
     "text": [
      "['गत', 'वरष', 'को', 'आकडा', 'मा', 'पनरसरचना', 'र', 'असामनय', 'शीरषक', 'मा', '१२', 'मिलियन', 'डलर', 'को', 'एक', 'पटक', 'मातर', 'हन', 'घाटा', 'समाविषट', 'छ', '।']\n",
      "True value\n",
      "---------------------------------------\n",
      "['<JJ>', '<NN>', '<PKO>', '<NN>', '<POP>', '<NN>', '<CC>', '<JJ>', '<NN>', '<POP>', '<CD>', '<CD>', '<NNP>', '<PKO>', '<CD>', '<RBO>', '<RP>', '<VBNE>', '<NN>', '<JJ>', '<VBX>', '<YF>']\n",
      "----------------------------------------\n",
      "predicted_value\n",
      "['<JJ>', '<NN>', '<PKO>', '<NN>', '<POP>', '<NN>', '<CC>', '<JJ>', '<NN>', '<POP>', '<CD>', '<CD>', '<NNP>', '<PKO>', '<CD>', '<RBO>', '<RP>', '<VBNE>', '<NN>', '<JJ>', '<VBX>', '<YF>']\n"
     ]
    }
   ],
   "source": [
    "with torch.no_grad():\n",
    "    print(valid_dataset[0][0])\n",
    "    print('True value')\n",
    "    print('---------------------------------------')\n",
    "    print(valid_dataset[0][1])\n",
    "    score = model(prepare_sequence(valid_dataset[0][0], word2int))\n",
    "    print('----------------------------------------')\n",
    "    value=[]\n",
    "    for item in score:\n",
    "        value.append(torch.argmax(item))\n",
    "    value = torch.IntTensor(value).tolist()\n",
    "    tag=[]\n",
    "    for item in value:\n",
    "            tag.append(int2tag[item])\n",
    "    print('predicted_value')        \n",
    "    print(tag)"
   ]
  },
  {
   "cell_type": "code",
   "execution_count": 104,
   "metadata": {},
   "outputs": [
    {
     "name": "stdout",
     "output_type": "stream",
     "text": [
      "----------------------------------------\n",
      "predicted_value\n",
      "['<NNP>', '<VBNE>', '<NN>']\n"
     ]
    }
   ],
   "source": [
    "with torch.no_grad():\n",
    "    sent = ['म','खाना','घर']\n",
    "    aasa = prepare_sequence(sent, word2int)\n",
    "    \n",
    "    score = model(aasa)\n",
    "    print('----------------------------------------')\n",
    "    value=[]\n",
    "    for item in score:\n",
    "        value.append(torch.argmax(item))\n",
    "    value = torch.IntTensor(value).tolist()\n",
    "    tag=[]\n",
    "    for item in value:\n",
    "            tag.append(int2tag[item])\n",
    "    print('predicted_value')        \n",
    "    print(tag)"
   ]
  },
  {
   "cell_type": "code",
   "execution_count": 105,
   "metadata": {},
   "outputs": [
    {
     "data": {
      "text/plain": [
       "tensor([[-4.7914e+00, -4.7835e+01, -1.5098e+01, -2.6196e+01, -9.8673e+00,\n",
       "         -9.9698e+00, -1.7458e+01, -3.9312e+01, -2.2057e+01, -3.3395e+01,\n",
       "         -2.4852e+01, -3.4459e+01, -3.5461e+01, -4.2784e+01, -7.5288e+00,\n",
       "         -1.8756e+01, -9.8167e-02, -1.3612e+01, -3.9635e+01, -3.6388e+01,\n",
       "         -2.1583e+01, -4.9391e+01, -4.8507e+01, -1.9754e+01, -2.6300e+00,\n",
       "         -2.0004e+01, -3.8248e+01, -2.7850e+01, -4.3897e+00, -3.7105e+01,\n",
       "         -3.0988e+01, -3.6217e+01, -1.0451e+01, -1.5916e+01, -4.0474e+01,\n",
       "         -3.2404e+01, -1.0131e+01, -3.5973e+01, -1.1512e+01],\n",
       "        [-5.5236e+00, -2.9819e+01, -3.8785e+01, -3.4791e+01, -2.2523e+01,\n",
       "         -1.6859e+01, -1.4891e+01, -2.3814e+01, -3.9470e+01, -2.7940e+01,\n",
       "         -2.6484e+01, -4.1395e+01, -4.4757e+01, -3.0365e+01, -1.2310e+01,\n",
       "         -5.8641e+00, -1.3607e+01, -3.9633e+00, -4.1346e+01, -3.4073e+01,\n",
       "         -2.1397e+01, -2.3093e+01, -1.7255e+01, -1.9423e+01, -2.0486e+01,\n",
       "         -2.0723e+01, -2.9482e+01, -1.9008e+01, -1.0940e+01, -4.6637e+01,\n",
       "         -3.0971e+01, -4.1967e+01, -4.1264e+00, -2.0336e+01, -3.1777e+01,\n",
       "         -3.0820e+01, -2.0494e+01, -4.1517e+01, -4.2904e-02],\n",
       "        [-4.3335e-03, -4.2417e+01, -5.0455e+01, -4.4474e+01, -1.9993e+01,\n",
       "         -2.9010e+01, -2.7387e+01, -3.6502e+01, -5.2422e+01, -4.1496e+01,\n",
       "         -2.8882e+01, -3.5271e+01, -3.9658e+01, -4.7501e+01, -9.3129e+00,\n",
       "         -2.8977e+01, -5.4661e+00, -2.7211e+01, -6.0392e+01, -3.5110e+01,\n",
       "         -2.6312e+01, -5.2191e+01, -5.3891e+01, -3.9647e+01, -3.4049e+01,\n",
       "         -3.3766e+01, -4.8456e+01, -3.5320e+01, -1.9457e+01, -5.0704e+01,\n",
       "         -1.2266e+01, -3.9864e+01, -1.3919e+01, -4.7851e+01, -4.8336e+01,\n",
       "         -4.8120e+01, -2.2615e+01, -4.6799e+01, -2.5544e+01]])"
      ]
     },
     "execution_count": 105,
     "metadata": {},
     "output_type": "execute_result"
    }
   ],
   "source": [
    "score"
   ]
  }
 ],
 "metadata": {
  "kernelspec": {
   "display_name": "Python 3",
   "language": "python",
   "name": "python3"
  },
  "language_info": {
   "codemirror_mode": {
    "name": "ipython",
    "version": 3
   },
   "file_extension": ".py",
   "mimetype": "text/x-python",
   "name": "python",
   "nbconvert_exporter": "python",
   "pygments_lexer": "ipython3",
   "version": "3.6.5"
  }
 },
 "nbformat": 4,
 "nbformat_minor": 2
}
