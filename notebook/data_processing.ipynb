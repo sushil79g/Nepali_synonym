{
 "cells": [
  {
   "cell_type": "code",
   "execution_count": 1,
   "metadata": {},
   "outputs": [],
   "source": [
    " # -*- coding: utf-8 -*-"
   ]
  },
  {
   "cell_type": "code",
   "execution_count": 2,
   "metadata": {},
   "outputs": [],
   "source": [
    "import re\n",
    "import pickle\n",
    "import string\n",
    "import unicodedata"
   ]
  },
  {
   "cell_type": "code",
   "execution_count": 3,
   "metadata": {},
   "outputs": [],
   "source": [
    "def extract_stopword():\n",
    "    f=open(\"NepaliStopWords.txt\", \"r\")\n",
    "    words = f.read()\n",
    "    f.close()\n",
    "    return words.split('\\n')[5:]"
   ]
  },
  {
   "cell_type": "code",
   "execution_count": 4,
   "metadata": {},
   "outputs": [],
   "source": [
    "def remove_newline(text):\n",
    "    bytestring = text.encode('utf8')\n",
    "    bytestring = re.sub(b'\\\\n',b' ',bytestring)\n",
    "    return bytestring.decode('utf8')\n",
    "    "
   ]
  },
  {
   "cell_type": "code",
   "execution_count": 5,
   "metadata": {},
   "outputs": [],
   "source": [
    "def remove_character(text):\n",
    "    data=[]\n",
    "    for item in text:\n",
    "        if item not in spl_character:\n",
    "            data.append(item) \n",
    "    bytestring = \"\".join(data).encode('utf8')             #removing string punctuation\n",
    "    bytestring = re.sub(b'\\xe2\\x80\\x9c', b'', bytestring) #removing nepali double quote\n",
    "    bytestring = re.sub(b'\\xe2\\x80\\x9d', b'', bytestring) #removing nepali double quote\n",
    "    bytestring = re.sub(b'\\xe2\\x80\\x98', b'', bytestring) #removing nepali single quote\n",
    "    bytestring = re.sub(b'\\xe2\\x80\\x99', b'', bytestring) #removing nepali single quote\n",
    "    bytestring = re.sub(b'\\xef\\xbb\\xbf',b'', bytestring)\n",
    "    bytestring = re.sub(b'\\xc2\\xa0', b'',bytestring)\n",
    "    return bytestring.decode('utf8')"
   ]
  },
  {
   "cell_type": "code",
   "execution_count": 6,
   "metadata": {},
   "outputs": [],
   "source": [
    "def remove_stopword(txt):\n",
    "    text_split = txt.split()\n",
    "    processed_text =[]\n",
    "    for item in text_split:\n",
    "        if item not in stop_words:\n",
    "            processed_text.append(item)\n",
    "    return \" \".join(processed_text)"
   ]
  },
  {
   "cell_type": "code",
   "execution_count": 7,
   "metadata": {},
   "outputs": [],
   "source": [
    "def remove_numeric(text):\n",
    "    for item in NUM:\n",
    "        text = re.sub(item, r'', text)\n",
    "    return text\n",
    "        \n",
    "    "
   ]
  },
  {
   "cell_type": "code",
   "execution_count": 8,
   "metadata": {},
   "outputs": [],
   "source": [
    "def remove_correspondance(text):\n",
    "    token = text.split()\n",
    "    #removing  anything before Nepali purna biraam where correspondance is given\n",
    "    if  re.findall(b'\\xe0\\xa5\\xa4', token[2].encode('utf8'))  :     \n",
    "        token[2] = re.sub(b'\\xe0\\xa5\\xa4', b'', token[2].encode('utf8')).decode('utf8')\n",
    "        token = token[2:]                                               \n",
    "    if  re.findall(b'\\xe0\\xa5\\xa4', token[1].encode('utf8'))  :\n",
    "        token[1] = re.sub(b'\\xe0\\xa5\\xa4', b'', token[1].encode('utf8')).decode('utf8')\n",
    "        token = token[1:]\n",
    "    if  re.findall(b'\\xe0\\xa5\\xa4', token[0].encode('utf8'))  :\n",
    "        token[0] = re.sub(b'\\xe0\\xa5\\xa4', b'', token[0].encode('utf8')).decode('utf8')\n",
    "        token = token[1:]\n",
    "        \n",
    "    return \" \".join(token)"
   ]
  },
  {
   "cell_type": "code",
   "execution_count": 11,
   "metadata": {},
   "outputs": [],
   "source": [
    "def text_processing(text):\n",
    "    text = remove_newline(text)\n",
    "    text = remove_character(text)\n",
    "    text = remove_stopword(text)\n",
    "    text = remove_numeric(text)\n",
    "    text = remove_correspondance(text)\n",
    "    return text"
   ]
  },
  {
   "cell_type": "code",
   "execution_count": null,
   "metadata": {},
   "outputs": [],
   "source": [
    "def pos_tag(text):"
   ]
  },
  {
   "cell_type": "markdown",
   "metadata": {},
   "source": [
    "## Importing files and stopwords"
   ]
  },
  {
   "cell_type": "code",
   "execution_count": 12,
   "metadata": {},
   "outputs": [],
   "source": [
    "file = open(\"train.pickle\",'rb')\n",
    "train_df = pickle.load(file)"
   ]
  },
  {
   "cell_type": "code",
   "execution_count": 13,
   "metadata": {},
   "outputs": [],
   "source": [
    "stop_words = extract_stopword()"
   ]
  },
  {
   "cell_type": "code",
   "execution_count": 14,
   "metadata": {},
   "outputs": [],
   "source": [
    "spl_character = list(filter(lambda x : x!='|',string.punctuation))"
   ]
  },
  {
   "cell_type": "code",
   "execution_count": 15,
   "metadata": {},
   "outputs": [],
   "source": [
    "NUM = ['०','१','२','३','४','५','६','७','८','९']"
   ]
  },
  {
   "cell_type": "code",
   "execution_count": 19,
   "metadata": {},
   "outputs": [],
   "source": [
    "num = 'लेख्छु'"
   ]
  },
  {
   "cell_type": "code",
   "execution_count": 40,
   "metadata": {},
   "outputs": [],
   "source": [
    "dec = b'\\xe0\\xa4\\xb2\\xe0\\xa5\\x87\\xe0\\xa4\\x96\\xe0\\xa5\\x8d'"
   ]
  },
  {
   "cell_type": "code",
   "execution_count": 41,
   "metadata": {},
   "outputs": [
    {
     "data": {
      "text/plain": [
       "'लेख्'"
      ]
     },
     "execution_count": 41,
     "metadata": {},
     "output_type": "execute_result"
    }
   ],
   "source": [
    "dec.decode('utf8')"
   ]
  },
  {
   "cell_type": "code",
   "execution_count": 31,
   "metadata": {},
   "outputs": [
    {
     "data": {
      "text/plain": [
       "b'\\xe0\\xa4\\xb2\\xe0\\xa5\\x87\\xe0\\xa4\\x96\\xe0\\xa5\\x8d\\xe0\\xa4\\x9b\\xe0\\xa5\\x81'"
      ]
     },
     "execution_count": 31,
     "metadata": {},
     "output_type": "execute_result"
    }
   ],
   "source": [
    "num.encode('utf8')"
   ]
  },
  {
   "cell_type": "code",
   "execution_count": null,
   "metadata": {},
   "outputs": [],
   "source": [
    "STEM = ['ले','को','सँग','लाई','हरु','देखि','छु','का','मा',']"
   ]
  },
  {
   "cell_type": "code",
   "execution_count": 16,
   "metadata": {},
   "outputs": [
    {
     "data": {
      "text/plain": [
       "'\\n\\ufeffकाठमाडौं । \\xa0गीतकार डीपी परिश्रमीले अन्तरमनको सुसेली सार्वजनिक गर्ने भएका छन् । संग्रहमा कविता र गीत समोवश हुने परिश्रमीले बताए । “मेरो पहिलो संग्रहको रुपमा अन्तरमनको सुसेली वैशाख महिनामा सार्वजनिक हुँदैछ,” संग्रहमा गीत र कविता गरेर ५० वटा सृजना समावेश हुनेछन् ।”\\nउनले गीती एल्वम “तिर्सना” पनि सार्वजनिक गर्ने तयारीमा रहेको बताए । आफ्नै एकल शब्द रहेको एल्बममा सात वटा गीत रहेका र गायक सत्यराज आचार्य, स्वरुपराज आचार्य, हेमन्त शर्मा, प्रमोद खरेल, मीलन अमात्य, आस्था रावत र राज सिग्देलले स्वर भरेका उनले बताए ।\\nएल्बममा शम्भूजित वास्कोटाको संगीत रहेको छ । दुई वटा गीतको म्युजिक भिडियोको छायांकन सकिसकेको जानकारी दिदै परिश्रमीले एल्बम तयार पार्न करिब तीन लाख रुपैयाँ लाग्ने बताए ।'"
      ]
     },
     "execution_count": 16,
     "metadata": {},
     "output_type": "execute_result"
    }
   ],
   "source": [
    "train_df['text'][0]"
   ]
  },
  {
   "cell_type": "code",
   "execution_count": 17,
   "metadata": {},
   "outputs": [
    {
     "data": {
      "text/html": [
       "<div>\n",
       "<style scoped>\n",
       "    .dataframe tbody tr th:only-of-type {\n",
       "        vertical-align: middle;\n",
       "    }\n",
       "\n",
       "    .dataframe tbody tr th {\n",
       "        vertical-align: top;\n",
       "    }\n",
       "\n",
       "    .dataframe thead th {\n",
       "        text-align: right;\n",
       "    }\n",
       "</style>\n",
       "<table border=\"1\" class=\"dataframe\">\n",
       "  <thead>\n",
       "    <tr style=\"text-align: right;\">\n",
       "      <th></th>\n",
       "      <th>text</th>\n",
       "      <th>category</th>\n",
       "    </tr>\n",
       "  </thead>\n",
       "  <tbody>\n",
       "    <tr>\n",
       "      <th>0</th>\n",
       "      <td>\\n﻿काठमाडौं ।  गीतकार डीपी परिश्रमीले अन्तरमनक...</td>\n",
       "      <td>Entertainment</td>\n",
       "    </tr>\n",
       "    <tr>\n",
       "      <th>1</th>\n",
       "      <td>\\n﻿ हिन्दी फिल्म  अकीरा  मा एक्सन रोलमा देखिन ...</td>\n",
       "      <td>Entertainment</td>\n",
       "    </tr>\n",
       "    <tr>\n",
       "      <th>2</th>\n",
       "      <td>\\n﻿काठमाडौँ, १७ चैत - चलचित्र होस्टेल रिटर्न्स...</td>\n",
       "      <td>Entertainment</td>\n",
       "    </tr>\n",
       "    <tr>\n",
       "      <th>3</th>\n",
       "      <td>\\n﻿-अशिष्मा नकर्मी, नायिका\\n\\nशुक्रबार बलम्बुम...</td>\n",
       "      <td>Entertainment</td>\n",
       "    </tr>\n",
       "    <tr>\n",
       "      <th>4</th>\n",
       "      <td>\\n﻿दुई जोईको पोई कुना पसी रोई भन्ने उखान अभिने...</td>\n",
       "      <td>Entertainment</td>\n",
       "    </tr>\n",
       "  </tbody>\n",
       "</table>\n",
       "</div>"
      ],
      "text/plain": [
       "                                                text       category\n",
       "0  \\n﻿काठमाडौं ।  गीतकार डीपी परिश्रमीले अन्तरमनक...  Entertainment\n",
       "1  \\n﻿ हिन्दी फिल्म  अकीरा  मा एक्सन रोलमा देखिन ...  Entertainment\n",
       "2  \\n﻿काठमाडौँ, १७ चैत - चलचित्र होस्टेल रिटर्न्स...  Entertainment\n",
       "3  \\n﻿-अशिष्मा नकर्मी, नायिका\\n\\nशुक्रबार बलम्बुम...  Entertainment\n",
       "4  \\n﻿दुई जोईको पोई कुना पसी रोई भन्ने उखान अभिने...  Entertainment"
      ]
     },
     "execution_count": 17,
     "metadata": {},
     "output_type": "execute_result"
    }
   ],
   "source": [
    "train_df.head()"
   ]
  },
  {
   "cell_type": "markdown",
   "metadata": {},
   "source": [
    "## Text preprocessing"
   ]
  },
  {
   "cell_type": "code",
   "execution_count": 18,
   "metadata": {},
   "outputs": [],
   "source": [
    "train_df ['processed_text'] = train_df['text'].map(text_processing)"
   ]
  },
  {
   "cell_type": "code",
   "execution_count": null,
   "metadata": {},
   "outputs": [],
   "source": []
  }
 ],
 "metadata": {
  "kernelspec": {
   "display_name": "Python 3",
   "language": "python",
   "name": "python3"
  },
  "language_info": {
   "codemirror_mode": {
    "name": "ipython",
    "version": 3
   },
   "file_extension": ".py",
   "mimetype": "text/x-python",
   "name": "python",
   "nbconvert_exporter": "python",
   "pygments_lexer": "ipython3",
   "version": "3.6.5"
  }
 },
 "nbformat": 4,
 "nbformat_minor": 2
}
