{
  "nbformat": 4,
  "nbformat_minor": 0,
  "metadata": {
    "colab": {
      "name": "Nepali_nlp.ipynb",
      "version": "0.3.2",
      "provenance": []
    },
    "kernelspec": {
      "name": "python3",
      "display_name": "Python 3"
    },
    "accelerator": "GPU"
  },
  "cells": [
    {
      "cell_type": "code",
      "metadata": {
        "id": "wDeVy0o2kdNW",
        "colab_type": "code",
        "colab": {}
      },
      "source": [
        "import gensim"
      ],
      "execution_count": 0,
      "outputs": []
    },
    {
      "cell_type": "code",
      "metadata": {
        "id": "trs-Abb2kg5E",
        "colab_type": "code",
        "colab": {
          "base_uri": "https://localhost:8080/",
          "height": 224
        },
        "outputId": "8681e5fc-304b-4c6f-f515-626e43124f25"
      },
      "source": [
        "!wget https://dl.fbaipublicfiles.com/fasttext/vectors-crawl/cc.ne.300.bin.gz"
      ],
      "execution_count": 1,
      "outputs": [
        {
          "output_type": "stream",
          "text": [
            "--2019-06-04 03:41:24--  https://dl.fbaipublicfiles.com/fasttext/vectors-crawl/cc.ne.300.bin.gz\n",
            "Resolving dl.fbaipublicfiles.com (dl.fbaipublicfiles.com)... 104.20.22.166, 104.20.6.166, 2606:4700:10::6814:6a6, ...\n",
            "Connecting to dl.fbaipublicfiles.com (dl.fbaipublicfiles.com)|104.20.22.166|:443... connected.\n",
            "HTTP request sent, awaiting response... 200 OK\n",
            "Length: 2914142013 (2.7G) [application/octet-stream]\n",
            "Saving to: ‘cc.ne.300.bin.gz’\n",
            "\n",
            "cc.ne.300.bin.gz    100%[===================>]   2.71G  16.8MB/s    in 2m 47s  \n",
            "\n",
            "2019-06-04 03:44:11 (16.7 MB/s) - ‘cc.ne.300.bin.gz’ saved [2914142013/2914142013]\n",
            "\n"
          ],
          "name": "stdout"
        }
      ]
    },
    {
      "cell_type": "code",
      "metadata": {
        "id": "qgc9jnIak8Lr",
        "colab_type": "code",
        "colab": {}
      },
      "source": [
        "!gunzip -k cc.ne.300.bin.gz"
      ],
      "execution_count": 0,
      "outputs": []
    },
    {
      "cell_type": "code",
      "metadata": {
        "id": "5UIXQEogk_KB",
        "colab_type": "code",
        "colab": {}
      },
      "source": [
        "import os\n",
        "os.environ[\"TF_CPP_MIN_LOG_LEVEL\"]=\"3\""
      ],
      "execution_count": 0,
      "outputs": []
    },
    {
      "cell_type": "code",
      "metadata": {
        "id": "dsDSgKvsnn_E",
        "colab_type": "code",
        "colab": {}
      },
      "source": [
        "from gensim.models import FastText as ft\n",
        "model=ft.load_fasttext_format(\"cc.ne.300.bin\")"
      ],
      "execution_count": 0,
      "outputs": []
    },
    {
      "cell_type": "code",
      "metadata": {
        "id": "uNU8plzNo4cn",
        "colab_type": "code",
        "colab": {
          "base_uri": "https://localhost:8080/",
          "height": 275
        },
        "outputId": "1f40d749-1c32-4bbd-f6b1-cfc33bd607e1"
      },
      "source": [
        "# model.similarity('चीन','नेपाल')\n",
        "# model.similar_by_word(\"फुटबल\")\n",
        "model.most_similar(\"सहयग\")\n",
        "# model.bucket(50)\n",
        "# model.words"
      ],
      "execution_count": 51,
      "outputs": [
        {
          "output_type": "stream",
          "text": [
            "/usr/local/lib/python3.6/dist-packages/ipykernel_launcher.py:1: DeprecationWarning: Call to deprecated `most_similar` (Method will be removed in 4.0.0, use self.wv.most_similar() instead).\n",
            "  \"\"\"Entry point for launching an IPython kernel.\n",
            "/usr/local/lib/python3.6/dist-packages/gensim/matutils.py:737: FutureWarning: Conversion of the second argument of issubdtype from `int` to `np.signedinteger` is deprecated. In future, it will be treated as `np.int64 == np.dtype(int).type`.\n",
            "  if np.issubdtype(vec.dtype, np.int):\n"
          ],
          "name": "stderr"
        },
        {
          "output_type": "execute_result",
          "data": {
            "text/plain": [
              "[('धुंवा', 0.26420649886131287),\n",
              " ('पूर्वीक्षेत्र', 0.22783330082893372),\n",
              " ('राणाहरू', 0.2269478738307953),\n",
              " ('शासनकालको', 0.22010460495948792),\n",
              " ('राजाहरले', 0.2197141945362091),\n",
              " ('सुरूवातमा', 0.21891312301158905),\n",
              " ('दार्जिलिङलाई', 0.21855759620666504),\n",
              " ('सहरीकरण', 0.21706324815750122),\n",
              " ('समयक्रम', 0.21677255630493164),\n",
              " ('इङ्गल्याण्डका', 0.2160310447216034)]"
            ]
          },
          "metadata": {
            "tags": []
          },
          "execution_count": 51
        }
      ]
    },
    {
      "cell_type": "code",
      "metadata": {
        "id": "5n_CVPSUzRNt",
        "colab_type": "code",
        "colab": {
          "base_uri": "https://localhost:8080/",
          "height": 34
        },
        "outputId": "2572579a-aaf3-4ddc-e736-3c14108cbad8"
      },
      "source": [
        "model"
      ],
      "execution_count": 52,
      "outputs": [
        {
          "output_type": "execute_result",
          "data": {
            "text/plain": [
              "<gensim.models.fasttext.FastText at 0x7f4dc001f470>"
            ]
          },
          "metadata": {
            "tags": []
          },
          "execution_count": 52
        }
      ]
    },
    {
      "cell_type": "code",
      "metadata": {
        "id": "8YYmyIU_2xfr",
        "colab_type": "code",
        "colab": {}
      },
      "source": [
        ""
      ],
      "execution_count": 0,
      "outputs": []
    }
  ]
}